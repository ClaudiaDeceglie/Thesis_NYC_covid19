{
 "cells": [
  {
   "cell_type": "markdown",
   "metadata": {},
   "source": [
    "Vado a creare i file da insierire nel modello SIR modificato con mobility:\n",
    "Variazione del commuting relativo per le prime dieci settimane sulla rete di 5 boroughs (Manhattan, Bronx, Brooklyn, Queens, Staten Island)."
   ]
  },
  {
   "cell_type": "code",
   "execution_count": 19,
   "metadata": {},
   "outputs": [],
   "source": [
    "import pandas as pd\n",
    "import matplotlib\n",
    "import matplotlib.pyplot as plt\n",
    "import matplotlib.colors as colors\n",
    "import matplotlib.patches as mpatches\n",
    "import numpy as np\n",
    "import matplotlib.ticker as ticker\n",
    "import seaborn as sns\n",
    "\n",
    "\n",
    "data_comm0 = pd.read_csv('/home/claudia/Scrivania/Tesi NYC pandemic /Modello_mobility5_var_commuting/Commuting_files_5boroughs/commuting_0.txt', sep=\" \", header=None)\n",
    "data_comm0.columns = [\"origin\", \"destination\", \"commuters\"]\n",
    "\n",
    "data_comm1 = pd.read_csv('/home/claudia/Scrivania/Tesi NYC pandemic /Modello_mobility5_var_commuting/Commuting_files_5boroughs/commuting_7.txt', sep=\" \", header=None)\n",
    "data_comm2 = pd.read_csv('/home/claudia/Scrivania/Tesi NYC pandemic /Modello_mobility5_var_commuting/Commuting_files_5boroughs/commuting_14.txt', sep=\" \", header=None)\n",
    "data_comm3 = pd.read_csv('/home/claudia/Scrivania/Tesi NYC pandemic /Modello_mobility5_var_commuting/Commuting_files_5boroughs/commuting_21.txt', sep=\" \", header=None)\n",
    "data_comm4 = pd.read_csv('/home/claudia/Scrivania/Tesi NYC pandemic /Modello_mobility5_var_commuting/Commuting_files_5boroughs/commuting_28.txt', sep=\" \", header=None)\n",
    "data_comm5 = pd.read_csv('/home/claudia/Scrivania/Tesi NYC pandemic /Modello_mobility5_var_commuting/Commuting_files_5boroughs/commuting_35.txt', sep=\" \", header=None)\n",
    "data_comm6 = pd.read_csv('/home/claudia/Scrivania/Tesi NYC pandemic /Modello_mobility5_var_commuting/Commuting_files_5boroughs/commuting_42.txt', sep=\" \", header=None)\n",
    "data_comm7 = pd.read_csv('/home/claudia/Scrivania/Tesi NYC pandemic /Modello_mobility5_var_commuting/Commuting_files_5boroughs/commuting_49.txt', sep=\" \", header=None)\n",
    "data_comm8 = pd.read_csv('/home/claudia/Scrivania/Tesi NYC pandemic /Modello_mobility5_var_commuting/Commuting_files_5boroughs/commuting_56.txt', sep=\" \", header=None)\n",
    "data_comm9 = pd.read_csv('/home/claudia/Scrivania/Tesi NYC pandemic /Modello_mobility5_var_commuting/Commuting_files_5boroughs/commuting_63.txt', sep=\" \", header=None)\n",
    "\n",
    "data_comm1.columns = [\"origin\", \"destination\", \"commuters_1\"]\n",
    "data_comm2.columns = [\"origin\", \"destination\", \"commuters_2\"]\n",
    "data_comm3.columns = [\"origin\", \"destination\", \"commuters_3\"]\n",
    "data_comm4.columns = [\"origin\", \"destination\", \"commuters_4\"]\n",
    "data_comm5.columns = [\"origin\", \"destination\", \"commuters_5\"]\n",
    "data_comm6.columns = [\"origin\", \"destination\", \"commuters_6\"]\n",
    "data_comm7.columns = [\"origin\", \"destination\", \"commuters_7\"]\n",
    "data_comm8.columns = [\"origin\", \"destination\", \"commuters_8\"]\n",
    "data_comm9.columns = [\"origin\", \"destination\", \"commuters_9\"]"
   ]
  },
  {
   "cell_type": "code",
   "execution_count": 20,
   "metadata": {},
   "outputs": [],
   "source": [
    "#Vado a calcolare le variazioni relative per ogni boro, settimana per settimana \n",
    "\n",
    "data_comm9['commuters_9'] = data_comm9['commuters_9'].div(data_comm8['commuters_8'], axis=0)\n",
    "data_comm9.to_csv( '/home/claudia/Scrivania/Tesi NYC pandemic /Modello_mobility5_var_commuting/Calcolo_var_relativa_commuting/rel_var_9_5boroughs.txt',sep=' ', index=False, header=False)\n",
    "\n",
    "data_comm8['commuters_8'] = data_comm8['commuters_8'].div(data_comm7['commuters_7'], axis=0)\n",
    "data_comm8.to_csv( '/home/claudia/Scrivania/Tesi NYC pandemic /Modello_mobility5_var_commuting/Calcolo_var_relativa_commuting/rel_var_8_5boroughs.txt',sep=' ', index=False, header=False)\n",
    "\n",
    "data_comm7['commuters_7'] = data_comm7['commuters_7'].div(data_comm6['commuters_6'], axis=0)\n",
    "data_comm7.to_csv( '/home/claudia/Scrivania/Tesi NYC pandemic /Modello_mobility5_var_commuting/Calcolo_var_relativa_commuting/rel_var_7_5boroughs.txt',sep=' ', index=False, header=False)\n",
    "\n",
    "data_comm6['commuters_6'] = data_comm6['commuters_6'].div(data_comm5['commuters_5'], axis=0)\n",
    "data_comm6.to_csv( '/home/claudia/Scrivania/Tesi NYC pandemic /Modello_mobility5_var_commuting/Calcolo_var_relativa_commuting/rel_var_6_5boroughs.txt',sep=' ', index=False, header=False)\n",
    "\n",
    "data_comm5['commuters_5'] = data_comm5['commuters_5'].div(data_comm4['commuters_4'], axis=0)\n",
    "data_comm5.to_csv( '/home/claudia/Scrivania/Tesi NYC pandemic /Modello_mobility5_var_commuting/Calcolo_var_relativa_commuting/rel_var_5_5boroughs.txt',sep=' ', index=False, header=False)\n",
    "\n",
    "data_comm4['commuters_4'] = data_comm4['commuters_4'].div(data_comm3['commuters_3'], axis=0)\n",
    "data_comm4.to_csv( '/home/claudia/Scrivania/Tesi NYC pandemic /Modello_mobility5_var_commuting/Calcolo_var_relativa_commuting/rel_var_4_5boroughs.txt',sep=' ', index=False, header=False)\n",
    "\n",
    "data_comm3['commuters_3'] = data_comm3['commuters_3'].div(data_comm2['commuters_2'], axis=0)\n",
    "data_comm3.to_csv( '/home/claudia/Scrivania/Tesi NYC pandemic /Modello_mobility5_var_commuting/Calcolo_var_relativa_commuting/rel_var_3_5boroughs.txt',sep=' ', index=False, header=False)\n",
    "\n",
    "data_comm2['commuters_2'] = data_comm2['commuters_2'].div(data_comm1['commuters_1'], axis=0)\n",
    "data_comm2.to_csv( '/home/claudia/Scrivania/Tesi NYC pandemic /Modello_mobility5_var_commuting/Calcolo_var_relativa_commuting/rel_var_2_5boroughs.txt',sep=' ', index=False, header=False)\n",
    "\n",
    "data_comm1['commuters_1'] = data_comm1['commuters_1'].div(data_comm0['commuters'], axis=0)\n",
    "data_comm1.to_csv( '/home/claudia/Scrivania/Tesi NYC pandemic /Modello_mobility5_var_commuting/Calcolo_var_relativa_commuting/rel_var_1_5boroughs.txt',sep=' ', index=False, header=False)\n"
   ]
  },
  {
   "cell_type": "code",
   "execution_count": null,
   "metadata": {},
   "outputs": [],
   "source": []
  }
 ],
 "metadata": {
  "kernelspec": {
   "display_name": "Python 3",
   "language": "python",
   "name": "python3"
  },
  "language_info": {
   "codemirror_mode": {
    "name": "ipython",
    "version": 3
   },
   "file_extension": ".py",
   "mimetype": "text/x-python",
   "name": "python",
   "nbconvert_exporter": "python",
   "pygments_lexer": "ipython3",
   "version": "3.8.3"
  }
 },
 "nbformat": 4,
 "nbformat_minor": 4
}
