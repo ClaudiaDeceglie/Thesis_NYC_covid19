{
 "cells": [
  {
   "cell_type": "markdown",
   "metadata": {},
   "source": [
    "Variazione del commuting relativo per le prime dieci settimane sulla rete di 4 boroughs (Manhattan, Bronx, Brooklyn, Queens)."
   ]
  },
  {
   "cell_type": "code",
   "execution_count": 64,
   "metadata": {},
   "outputs": [],
   "source": [
    "import pandas as pd\n",
    "import matplotlib\n",
    "import matplotlib.pyplot as plt\n",
    "import matplotlib.colors as colors\n",
    "import matplotlib.patches as mpatches\n",
    "import numpy as np\n",
    "import matplotlib.ticker as ticker\n",
    "import seaborn as sns\n",
    "\n",
    "\n",
    "#file di partenza rispetto al quale calcolare le variazioni relative\n",
    "data_comm0 = pd.read_csv('/home/claudia/Scrivania/Tesi NYC pandemic /Modello_mobility_var_commuting/commuting_0_4x4.txt', sep=\" \", header=None)\n",
    "data_comm0.columns = [\"origin\", \"destination\", \"commuters\"]\n",
    "\n",
    "\n",
    "data_comm1 = pd.read_csv('/home/claudia/Scrivania/Tesi NYC pandemic /Modello_mobility_var_commuting/File_variazione_commuting/commuting_1_4x4.txt', sep=\" \", header=None)\n",
    "data_comm2 = pd.read_csv('/home/claudia/Scrivania/Tesi NYC pandemic /Modello_mobility_var_commuting/File_variazione_commuting/commuting_2_4x4.txt', sep=\" \", header=None)\n",
    "data_comm3 = pd.read_csv('/home/claudia/Scrivania/Tesi NYC pandemic /Modello_mobility_var_commuting/File_variazione_commuting/commuting_3_4x4.txt', sep=\" \", header=None)\n",
    "data_comm4 = pd.read_csv('/home/claudia/Scrivania/Tesi NYC pandemic /Modello_mobility_var_commuting/File_variazione_commuting/commuting_4_4x4.txt', sep=\" \", header=None)\n",
    "data_comm5 = pd.read_csv('/home/claudia/Scrivania/Tesi NYC pandemic /Modello_mobility_var_commuting/File_variazione_commuting/commuting_5_4x4.txt', sep=\" \", header=None)\n",
    "data_comm6 = pd.read_csv('/home/claudia/Scrivania/Tesi NYC pandemic /Modello_mobility_var_commuting/File_variazione_commuting/commuting_6_4x4.txt', sep=\" \", header=None)\n",
    "data_comm7 = pd.read_csv('/home/claudia/Scrivania/Tesi NYC pandemic /Modello_mobility_var_commuting/File_variazione_commuting/commuting_7_4x4.txt', sep=\" \", header=None)\n",
    "data_comm8 = pd.read_csv('/home/claudia/Scrivania/Tesi NYC pandemic /Modello_mobility_var_commuting/File_variazione_commuting/commuting_8_4x4.txt', sep=\" \", header=None)\n",
    "data_comm9 = pd.read_csv('/home/claudia/Scrivania/Tesi NYC pandemic /Modello_mobility_var_commuting/File_variazione_commuting/commuting_9_4x4.txt', sep=\" \", header=None)\n",
    "\n",
    "data_comm1.columns = [\"origin\", \"destination\", \"commuters_1\"]\n",
    "data_comm2.columns = [\"origin\", \"destination\", \"commuters_2\"]\n",
    "data_comm3.columns = [\"origin\", \"destination\", \"commuters_3\"]\n",
    "data_comm4.columns = [\"origin\", \"destination\", \"commuters_4\"]\n",
    "data_comm5.columns = [\"origin\", \"destination\", \"commuters_5\"]\n",
    "data_comm6.columns = [\"origin\", \"destination\", \"commuters_6\"]\n",
    "data_comm7.columns = [\"origin\", \"destination\", \"commuters_7\"]\n",
    "data_comm8.columns = [\"origin\", \"destination\", \"commuters_8\"]\n",
    "data_comm9.columns = [\"origin\", \"destination\", \"commuters_9\"]\n",
    "\n",
    "\n",
    "data_comm9['commuters_9'] = data_comm9['commuters_9'].div(data_comm8['commuters_8'], axis=0)\n",
    "data_comm9.to_csv( '/home/claudia/Scrivania/Tesi NYC pandemic /Modello_mobility_var_commuting/File_variazione_commuting/relative_var_9_4x4.txt',sep=' ', index=False, header=False)\n",
    "\n",
    "data_comm8['commuters_8'] = data_comm8['commuters_8'].div(data_comm7['commuters_7'], axis=0)\n",
    "data_comm8.to_csv( '/home/claudia/Scrivania/Tesi NYC pandemic /Modello_mobility_var_commuting/File_variazione_commuting/relative_var_8_4x4.txt',sep=' ', index=False, header=False)\n",
    "\n",
    "data_comm7['commuters_7'] = data_comm7['commuters_7'].div(data_comm6['commuters_6'], axis=0)\n",
    "data_comm7.to_csv( '/home/claudia/Scrivania/Tesi NYC pandemic /Modello_mobility_var_commuting/File_variazione_commuting/relative_var_7_4x4.txt',sep=' ', index=False, header=False)\n",
    "\n",
    "data_comm6['commuters_6'] = data_comm6['commuters_6'].div(data_comm5['commuters_5'], axis=0)\n",
    "data_comm6.to_csv( '/home/claudia/Scrivania/Tesi NYC pandemic /Modello_mobility_var_commuting/File_variazione_commuting/relative_var_6_4x4.txt',sep=' ', index=False, header=False)\n",
    "\n",
    "data_comm5['commuters_5'] = data_comm5['commuters_5'].div(data_comm4['commuters_4'], axis=0)\n",
    "data_comm5.to_csv( '/home/claudia/Scrivania/Tesi NYC pandemic /Modello_mobility_var_commuting/File_variazione_commuting/relative_var_5_4x4.txt',sep=' ', index=False, header=False)\n",
    "\n",
    "data_comm4['commuters_4'] = data_comm4['commuters_4'].div(data_comm3['commuters_3'], axis=0)\n",
    "data_comm4.to_csv( '/home/claudia/Scrivania/Tesi NYC pandemic /Modello_mobility_var_commuting/File_variazione_commuting/relative_var_4_4x4.txt',sep=' ', index=False, header=False)\n",
    "\n",
    "data_comm3['commuters_3'] = data_comm3['commuters_3'].div(data_comm2['commuters_2'], axis=0)\n",
    "data_comm3.to_csv( '/home/claudia/Scrivania/Tesi NYC pandemic /Modello_mobility_var_commuting/File_variazione_commuting/relative_var_3_4x4.txt',sep=' ', index=False, header=False)\n",
    "\n",
    "data_comm2['commuters_2'] = data_comm2['commuters_2'].div(data_comm1['commuters_1'], axis=0)\n",
    "data_comm2.to_csv( '/home/claudia/Scrivania/Tesi NYC pandemic /Modello_mobility_var_commuting/File_variazione_commuting/relative_var_2_4x4.txt',sep=' ', index=False, header=False)\n",
    "\n",
    "data_comm1['commuters_1'] = data_comm1['commuters_1'].div(data_comm0['commuters'], axis=0)\n",
    "data_comm1.to_csv( '/home/claudia/Scrivania/Tesi NYC pandemic /Modello_mobility_var_commuting/File_variazione_commuting/relative_var_1_4x4.txt',sep=' ', index=False, header=False)\n"
   ]
  },
  {
   "cell_type": "code",
   "execution_count": null,
   "metadata": {},
   "outputs": [],
   "source": []
  },
  {
   "cell_type": "code",
   "execution_count": null,
   "metadata": {},
   "outputs": [],
   "source": []
  }
 ],
 "metadata": {
  "kernelspec": {
   "display_name": "Python 3",
   "language": "python",
   "name": "python3"
  },
  "language_info": {
   "codemirror_mode": {
    "name": "ipython",
    "version": 3
   },
   "file_extension": ".py",
   "mimetype": "text/x-python",
   "name": "python",
   "nbconvert_exporter": "python",
   "pygments_lexer": "ipython3",
   "version": "3.8.3"
  }
 },
 "nbformat": 4,
 "nbformat_minor": 4
}
