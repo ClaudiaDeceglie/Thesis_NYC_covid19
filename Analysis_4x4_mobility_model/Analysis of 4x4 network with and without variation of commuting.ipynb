{
 "cells": [
  {
   "cell_type": "markdown",
   "metadata": {},
   "source": [
    "Analysis of 100 simulations results on a network of four boroughs without (case 1) and with a variation of the commuting matrix (case 2) during the simulations.\n",
    "Here I present the results concerning the number of recovered in each borough at the end of the simulations, in order to visualize the differences in the pandemic spreading and incidence due to the possible reduction in commuting between the different districts.\n",
    "Simulations have been performed with $R_0$ = 3."
   ]
  },
  {
   "cell_type": "code",
   "execution_count": 2,
   "metadata": {},
   "outputs": [],
   "source": [
    "import pandas as pd\n",
    "import geopandas as gpd\n",
    "import matplotlib\n",
    "import matplotlib.pyplot as plt\n",
    "import matplotlib.colors as colors\n",
    "import matplotlib.lines as mlines\n",
    "import numpy as np\n",
    "import statsmodels.api as ssm\n",
    "import statsmodels.formula.api as smf\n",
    "import seaborn as sns\n",
    "from sklearn import preprocessing\n",
    "from sklearn.preprocessing import StandardScaler"
   ]
  },
  {
   "cell_type": "code",
   "execution_count": 43,
   "metadata": {},
   "outputs": [],
   "source": [
    "df_novarcomm = pd.read_excel(\"/home/claudia/Scrivania/Tesi NYC pandemic /Modello_mobility_prova4x4/Analysis/NoVariationsCommuting.xlsx\")\n",
    "df_varcomm_1w = pd.read_excel(\"/home/claudia/Scrivania/Tesi NYC pandemic /Modello_mobility_prova4x4/Analysis/VariationsComm_1w.xlsx\")\n",
    "\n",
    "df_novarcomm.rename(columns = {'Unnamed: 0' : 'Simulations', 'Queens ' : 'Queens'}, inplace = True)\n",
    "df_varcomm_1w.rename(columns = {'Unnamed: 0' : 'Simulations','Queens ' : 'Queens'}, inplace = True)"
   ]
  },
  {
   "cell_type": "code",
   "execution_count": 45,
   "metadata": {},
   "outputs": [
    {
     "data": {
      "text/html": [
       "<div>\n",
       "<style scoped>\n",
       "    .dataframe tbody tr th:only-of-type {\n",
       "        vertical-align: middle;\n",
       "    }\n",
       "\n",
       "    .dataframe tbody tr th {\n",
       "        vertical-align: top;\n",
       "    }\n",
       "\n",
       "    .dataframe thead th {\n",
       "        text-align: right;\n",
       "    }\n",
       "</style>\n",
       "<table border=\"1\" class=\"dataframe\">\n",
       "  <thead>\n",
       "    <tr style=\"text-align: right;\">\n",
       "      <th></th>\n",
       "      <th>Simulations</th>\n",
       "      <th>Manhattan</th>\n",
       "      <th>Bronx</th>\n",
       "      <th>Brooklyn</th>\n",
       "      <th>Queens</th>\n",
       "    </tr>\n",
       "  </thead>\n",
       "  <tbody>\n",
       "    <tr>\n",
       "      <th>0</th>\n",
       "      <td>Recovered_0</td>\n",
       "      <td>1548888</td>\n",
       "      <td>1347954</td>\n",
       "      <td>2434826</td>\n",
       "      <td>2143461</td>\n",
       "    </tr>\n",
       "    <tr>\n",
       "      <th>1</th>\n",
       "      <td>Recovered_1</td>\n",
       "      <td>1549743</td>\n",
       "      <td>1347624</td>\n",
       "      <td>2435570</td>\n",
       "      <td>2144173</td>\n",
       "    </tr>\n",
       "    <tr>\n",
       "      <th>2</th>\n",
       "      <td>Recovered_2</td>\n",
       "      <td>1548571</td>\n",
       "      <td>1347069</td>\n",
       "      <td>2435400</td>\n",
       "      <td>2144212</td>\n",
       "    </tr>\n",
       "    <tr>\n",
       "      <th>3</th>\n",
       "      <td>Recovered_3</td>\n",
       "      <td>1548698</td>\n",
       "      <td>1347865</td>\n",
       "      <td>2434312</td>\n",
       "      <td>2143922</td>\n",
       "    </tr>\n",
       "    <tr>\n",
       "      <th>4</th>\n",
       "      <td>Recovered_4</td>\n",
       "      <td>1549474</td>\n",
       "      <td>1347844</td>\n",
       "      <td>2434548</td>\n",
       "      <td>2143234</td>\n",
       "    </tr>\n",
       "    <tr>\n",
       "      <th>...</th>\n",
       "      <td>...</td>\n",
       "      <td>...</td>\n",
       "      <td>...</td>\n",
       "      <td>...</td>\n",
       "      <td>...</td>\n",
       "    </tr>\n",
       "    <tr>\n",
       "      <th>95</th>\n",
       "      <td>Recovered_95</td>\n",
       "      <td>1547724</td>\n",
       "      <td>1348116</td>\n",
       "      <td>2434994</td>\n",
       "      <td>2143996</td>\n",
       "    </tr>\n",
       "    <tr>\n",
       "      <th>96</th>\n",
       "      <td>Recovered_96</td>\n",
       "      <td>1548510</td>\n",
       "      <td>1347695</td>\n",
       "      <td>2434958</td>\n",
       "      <td>2143903</td>\n",
       "    </tr>\n",
       "    <tr>\n",
       "      <th>97</th>\n",
       "      <td>Recovered_97</td>\n",
       "      <td>1547859</td>\n",
       "      <td>1347274</td>\n",
       "      <td>2433961</td>\n",
       "      <td>2143355</td>\n",
       "    </tr>\n",
       "    <tr>\n",
       "      <th>98</th>\n",
       "      <td>Recovered_98</td>\n",
       "      <td>1548494</td>\n",
       "      <td>1348115</td>\n",
       "      <td>2435063</td>\n",
       "      <td>2143787</td>\n",
       "    </tr>\n",
       "    <tr>\n",
       "      <th>99</th>\n",
       "      <td>Recovered_99</td>\n",
       "      <td>1548117</td>\n",
       "      <td>1348511</td>\n",
       "      <td>2435421</td>\n",
       "      <td>2145016</td>\n",
       "    </tr>\n",
       "  </tbody>\n",
       "</table>\n",
       "<p>100 rows × 5 columns</p>\n",
       "</div>"
      ],
      "text/plain": [
       "     Simulations  Manhattan    Bronx  Brooklyn   Queens\n",
       "0    Recovered_0    1548888  1347954   2434826  2143461\n",
       "1    Recovered_1    1549743  1347624   2435570  2144173\n",
       "2    Recovered_2    1548571  1347069   2435400  2144212\n",
       "3    Recovered_3    1548698  1347865   2434312  2143922\n",
       "4    Recovered_4    1549474  1347844   2434548  2143234\n",
       "..           ...        ...      ...       ...      ...\n",
       "95  Recovered_95    1547724  1348116   2434994  2143996\n",
       "96  Recovered_96    1548510  1347695   2434958  2143903\n",
       "97  Recovered_97    1547859  1347274   2433961  2143355\n",
       "98  Recovered_98    1548494  1348115   2435063  2143787\n",
       "99  Recovered_99    1548117  1348511   2435421  2145016\n",
       "\n",
       "[100 rows x 5 columns]"
      ]
     },
     "execution_count": 45,
     "metadata": {},
     "output_type": "execute_result"
    }
   ],
   "source": [
    "df_varcomm_1w\n",
    "df_novarcomm\n"
   ]
  },
  {
   "cell_type": "code",
   "execution_count": 113,
   "metadata": {},
   "outputs": [
    {
     "data": {
      "text/plain": [
       "Text(0, 0.5, 'Recovered')"
      ]
     },
     "execution_count": 113,
     "metadata": {},
     "output_type": "execute_result"
    },
    {
     "data": {
      "image/png": "[encoded data removed]",
      "text/plain": [
       "<Figure size 1080x1080 with 4 Axes>"
      ]
     },
     "metadata": {
      "needs_background": "light"
     },
     "output_type": "display_data"
    }
   ],
   "source": [
    "fig, axs = plt.subplots(2,2, figsize = (15,15))\n",
    "legend = [\"Blue : No variations in commuting \", \"Orange : Variation of commuting at 1st week\"]\n",
    "\n",
    "sns.boxplot(df_novarcomm['Manhattan'], orient=\"v\", color='#4CB391', linewidth=0.5, fliersize=0.1, ax = axs[0,0])\n",
    "sns.boxplot(data=df_varcomm_1w['Manhattan'], orient=\"v\", color='Orange', linewidth=0.5, fliersize=0.1, ax = axs[0,0])\n",
    "axs[0,1].set_title('Manhattan')\n",
    "axs[0,0].legend(legend, loc = \"upper center\")\n",
    "axs[0,0].set_ylabel('Recovered')\n",
    "\n",
    "sns.boxplot(data=df_novarcomm['Bronx'], orient=\"v\", color='#4CB391', linewidth=0.5, fliersize=0.1, ax = axs[0,1])\n",
    "sns.boxplot(data=df_varcomm_1w['Bronx'], orient=\"v\", color='Orange', linewidth=0.5, fliersize=0.1, ax= axs[0,1])\n",
    "axs[0,1].set_title('Bronx')\n",
    "axs[0,1].legend(legend, loc = \"upper center\", markerscale = 60)\n",
    "axs[0,1].set_ylabel('Recovered')\n",
    "\n",
    "sns.boxplot(data=df_novarcomm['Brooklyn'], orient=\"v\", color='#4CB391', linewidth=0.5, fliersize=0.1, ax = axs[1,0])\n",
    "sns.boxplot(data=df_varcomm_1w['Brooklyn'], orient=\"v\", color='Orange', linewidth=0.5, fliersize=0.1, ax = axs[1,0])\n",
    "axs[1,0].set_title('Brooklyn')\n",
    "axs[1,0].legend(legend, loc = \"upper center\")\n",
    "axs[1,0].set_ylabel('Recovered')\n",
    "\n",
    "sns.boxplot(data=df_novarcomm['Queens'], orient=\"v\", color='#4CB391', linewidth=0.5, fliersize=0.1, ax = axs[1,1])\n",
    "sns.boxplot(data=df_varcomm_1w['Queens'], orient=\"v\", color='Orange', linewidth=0.5, fliersize=0.1, ax = axs[1,1])\n",
    "axs[1,1].set_title(\"Queens\")\n",
    "axs[1,1].legend(legend, loc = \"upper center\")\n",
    "axs[1,1].set_ylabel('Recovered')\n",
    "\n",
    "\n"
   ]
  },
  {
   "cell_type": "code",
   "execution_count": null,
   "metadata": {},
   "outputs": [],
   "source": []
  },
  {
   "cell_type": "code",
   "execution_count": null,
   "metadata": {},
   "outputs": [],
   "source": []
  }
 ],
 "metadata": {
  "kernelspec": {
   "display_name": "Python 3",
   "language": "python",
   "name": "python3"
  },
  "language_info": {
   "codemirror_mode": {
    "name": "ipython",
    "version": 3
   },
   "file_extension": ".py",
   "mimetype": "text/x-python",
   "name": "python",
   "nbconvert_exporter": "python",
   "pygments_lexer": "ipython3",
   "version": "3.8.3"
  }
 },
 "nbformat": 4,
 "nbformat_minor": 4
}
